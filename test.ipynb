{
 "cells": [
  {
   "cell_type": "code",
   "execution_count": 1,
   "metadata": {},
   "outputs": [
    {
     "name": "stdout",
     "output_type": "stream",
     "text": [
      "截图已保存到: screenshot.png\n"
     ]
    }
   ],
   "source": [
    "import mss\n",
    "import mss.tools\n",
    "from PIL import Image\n",
    "\n",
    "def capture_screen(filename):\n",
    "    with mss.mss() as sct:\n",
    "        # 截取整个屏幕\n",
    "        sct_img = sct.grab(sct.monitors[1])\n",
    "\n",
    "        # 将截图保存到文件\n",
    "        mss.tools.to_png(sct_img.rgb, sct_img.size, output=filename)\n",
    "        print(\"截图已保存到:\", filename)\n",
    "\n",
    "if __name__ == \"__main__\":\n",
    "    capture_screen(\"screenshot.png\")\n"
   ]
  }
 ],
 "metadata": {
  "kernelspec": {
   "display_name": "d2l",
   "language": "python",
   "name": "python3"
  },
  "language_info": {
   "codemirror_mode": {
    "name": "ipython",
    "version": 3
   },
   "file_extension": ".py",
   "mimetype": "text/x-python",
   "name": "python",
   "nbconvert_exporter": "python",
   "pygments_lexer": "ipython3",
   "version": "3.8.16"
  }
 },
 "nbformat": 4,
 "nbformat_minor": 2
}
